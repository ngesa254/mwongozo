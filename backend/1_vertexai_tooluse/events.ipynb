{
 "cells": [
  {
   "cell_type": "markdown",
   "id": "a766d5a1-17ec-4090-ba6e-9744da5c54bf",
   "metadata": {},
   "source": [
    "## RAG with Recommendation prompts"
   ]
  },
  {
   "cell_type": "code",
   "execution_count": 1,
   "id": "7c6a9a52-83e3-48e5-a479-eff446f61964",
   "metadata": {
    "tags": []
   },
   "outputs": [],
   "source": [
    "#Gemini set up\n",
    "#Schedule Data Set up\n",
    "#Recommnedation prompts\n",
    "#Deployment of model\n",
    "#Deployent of App"
   ]
  },
  {
   "cell_type": "code",
   "execution_count": null,
   "id": "5ead0d45-6082-438d-b473-d0c71e2f5424",
   "metadata": {},
   "outputs": [],
   "source": []
  }
 ],
 "metadata": {
  "environment": {
   "kernel": "conda-env-pytorch-pytorch",
   "name": "workbench-notebooks.m125",
   "type": "gcloud",
   "uri": "us-docker.pkg.dev/deeplearning-platform-release/gcr.io/workbench-notebooks:m125"
  },
  "kernelspec": {
   "display_name": "PyTorch 1-13 (Local)",
   "language": "python",
   "name": "conda-env-pytorch-pytorch"
  },
  "language_info": {
   "codemirror_mode": {
    "name": "ipython",
    "version": 3
   },
   "file_extension": ".py",
   "mimetype": "text/x-python",
   "name": "python",
   "nbconvert_exporter": "python",
   "pygments_lexer": "ipython3",
   "version": "3.10.15"
  }
 },
 "nbformat": 4,
 "nbformat_minor": 5
}

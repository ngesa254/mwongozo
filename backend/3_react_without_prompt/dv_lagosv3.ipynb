{
 "cells": [
  {
   "cell_type": "code",
   "execution_count": 8,
   "id": "caeb142e-2555-429b-abcc-d22ffd9fede9",
   "metadata": {
    "tags": []
   },
   "outputs": [],
   "source": [
    "!pip install -qU \\\n",
    "    google-cloud-aiplatform \\\n",
    "    google-cloud-storage \\\n",
    "    llama-index \\\n",
    "    llama-index-embeddings-vertex \\\n",
    "    llama-index-llms-vertex \\\n",
    "    llama-index-vector_stores-vertexaivectorsearch \\\n",
    "    llama-index-llms-fireworks \\\n",
    "    llama-index-embeddings-huggingface"
   ]
  },
  {
   "cell_type": "code",
   "execution_count": 9,
   "id": "f618e39f-4679-4b08-8b94-b70845e0704c",
   "metadata": {
    "tags": []
   },
   "outputs": [],
   "source": [
    "# Imports\n",
    "import os\n",
    "\n",
    "from google.cloud import aiplatform, storage\n",
    "from llama_index.core import (\n",
    "    Document,\n",
    "    PromptTemplate,\n",
    "    Settings,\n",
    "    SimpleDirectoryReader,\n",
    "    StorageContext,\n",
    "    SummaryIndex,\n",
    "    VectorStoreIndex,\n",
    ")\n",
    "from llama_index.core.agent import ReActAgent\n",
    "from llama_index.core.base.base_query_engine import BaseQueryEngine\n",
    "from llama_index.core.node_parser import SentenceSplitter\n",
    "from llama_index.core.objects import ObjectIndex\n",
    "from llama_index.core.prompts import LangchainPromptTemplate\n",
    "from llama_index.core.prompts.base import BasePromptTemplate\n",
    "from llama_index.core.tools import QueryEngineTool, ToolMetadata\n",
    "from llama_index.embeddings.vertex import VertexTextEmbedding\n",
    "from llama_index.llms.vertex import Vertex\n",
    "from llama_index.vector_stores.vertexaivectorsearch import VertexAIVectorStore"
   ]
  },
  {
   "cell_type": "code",
   "execution_count": 10,
   "id": "7264444c-6c73-4c79-80eb-5451f415f9cf",
   "metadata": {
    "tags": []
   },
   "outputs": [
    {
     "name": "stdout",
     "output_type": "stream",
     "text": [
      "Updated property [core/project].\n"
     ]
    }
   ],
   "source": [
    "!gcloud config set project {PROJECT_ID}"
   ]
  },
  {
   "cell_type": "code",
   "execution_count": 11,
   "id": "552549ca-f116-4fff-92b4-573d5039c25a",
   "metadata": {
    "tags": []
   },
   "outputs": [
    {
     "data": {
      "text/plain": [
       "{'status': 'ok', 'restart': True}"
      ]
     },
     "execution_count": 11,
     "metadata": {},
     "output_type": "execute_result"
    }
   ],
   "source": [
    "\n",
    "import IPython\n",
    "\n",
    "app = IPython.Application.instance()\n",
    "app.kernel.do_shutdown(True)"
   ]
  },
  {
   "cell_type": "code",
   "execution_count": 3,
   "id": "ee44e5a9-e6a5-465f-9401-f59d3285c21f",
   "metadata": {
    "tags": []
   },
   "outputs": [],
   "source": [
    "from llama_index.llms.vertex import Vertex"
   ]
  },
  {
   "cell_type": "code",
   "execution_count": 4,
   "id": "834a8ea8-97ee-46a8-a7a1-ad84987e0d24",
   "metadata": {
    "tags": []
   },
   "outputs": [],
   "source": [
    "PROJECT_ID = \"angelic-bee-193823\"  \n",
    "LOCATION = \"us-central1\"  \n",
    "\n",
    "import vertexai\n",
    "\n",
    "vertexai.init(project=PROJECT_ID, location=LOCATION)"
   ]
  },
  {
   "cell_type": "code",
   "execution_count": 6,
   "id": "d6d1521a-81a2-47ae-a6f3-e74e7ec1c87b",
   "metadata": {
    "tags": []
   },
   "outputs": [
    {
     "name": "stderr",
     "output_type": "stream",
     "text": [
      "The cache for model files in Transformers v4.22.0 has been updated. Migrating your old cache. This is a one-time only operation. You can interrupt this and resume the migration later on by calling `transformers.utils.move_cache()`.\n"
     ]
    },
    {
     "data": {
      "application/vnd.jupyter.widget-view+json": {
       "model_id": "ff3b4893d95d41788f9ec3fbca790421",
       "version_major": 2,
       "version_minor": 0
      },
      "text/plain": [
       "0it [00:00, ?it/s]"
      ]
     },
     "metadata": {},
     "output_type": "display_data"
    },
    {
     "data": {
      "application/vnd.jupyter.widget-view+json": {
       "model_id": "0c5303d96ef048cdb3b01bbe99433c00",
       "version_major": 2,
       "version_minor": 0
      },
      "text/plain": [
       "modules.json:   0%|          | 0.00/349 [00:00<?, ?B/s]"
      ]
     },
     "metadata": {},
     "output_type": "display_data"
    },
    {
     "data": {
      "application/vnd.jupyter.widget-view+json": {
       "model_id": "bde6b29b2e5c4959bce0aa2211c7302b",
       "version_major": 2,
       "version_minor": 0
      },
      "text/plain": [
       "config_sentence_transformers.json:   0%|          | 0.00/124 [00:00<?, ?B/s]"
      ]
     },
     "metadata": {},
     "output_type": "display_data"
    },
    {
     "data": {
      "application/vnd.jupyter.widget-view+json": {
       "model_id": "9dacb9395a3441ed8b041f6724d7982c",
       "version_major": 2,
       "version_minor": 0
      },
      "text/plain": [
       "README.md:   0%|          | 0.00/94.8k [00:00<?, ?B/s]"
      ]
     },
     "metadata": {},
     "output_type": "display_data"
    },
    {
     "data": {
      "application/vnd.jupyter.widget-view+json": {
       "model_id": "5c45df3c8f77411bab98cf317657bcc0",
       "version_major": 2,
       "version_minor": 0
      },
      "text/plain": [
       "sentence_bert_config.json:   0%|          | 0.00/52.0 [00:00<?, ?B/s]"
      ]
     },
     "metadata": {},
     "output_type": "display_data"
    },
    {
     "data": {
      "application/vnd.jupyter.widget-view+json": {
       "model_id": "0b12084d678d44a3921582e402bc86f1",
       "version_major": 2,
       "version_minor": 0
      },
      "text/plain": [
       "config.json:   0%|          | 0.00/743 [00:00<?, ?B/s]"
      ]
     },
     "metadata": {},
     "output_type": "display_data"
    },
    {
     "data": {
      "application/vnd.jupyter.widget-view+json": {
       "model_id": "049b301a55004418a49bfe911a719cce",
       "version_major": 2,
       "version_minor": 0
      },
      "text/plain": [
       "model.safetensors:   0%|          | 0.00/133M [00:00<?, ?B/s]"
      ]
     },
     "metadata": {},
     "output_type": "display_data"
    },
    {
     "data": {
      "application/vnd.jupyter.widget-view+json": {
       "model_id": "9e11bcaa0e53428c978909a1059b6c6f",
       "version_major": 2,
       "version_minor": 0
      },
      "text/plain": [
       "tokenizer_config.json:   0%|          | 0.00/366 [00:00<?, ?B/s]"
      ]
     },
     "metadata": {},
     "output_type": "display_data"
    },
    {
     "data": {
      "application/vnd.jupyter.widget-view+json": {
       "model_id": "5d43f1c162624dda94a3fdfcf6214852",
       "version_major": 2,
       "version_minor": 0
      },
      "text/plain": [
       "vocab.txt:   0%|          | 0.00/232k [00:00<?, ?B/s]"
      ]
     },
     "metadata": {},
     "output_type": "display_data"
    },
    {
     "data": {
      "application/vnd.jupyter.widget-view+json": {
       "model_id": "893486e27ffa478a90b81528c70720c1",
       "version_major": 2,
       "version_minor": 0
      },
      "text/plain": [
       "tokenizer.json:   0%|          | 0.00/711k [00:00<?, ?B/s]"
      ]
     },
     "metadata": {},
     "output_type": "display_data"
    },
    {
     "data": {
      "application/vnd.jupyter.widget-view+json": {
       "model_id": "e74bae68c9994630abdf4cd75dad1342",
       "version_major": 2,
       "version_minor": 0
      },
      "text/plain": [
       "special_tokens_map.json:   0%|          | 0.00/125 [00:00<?, ?B/s]"
      ]
     },
     "metadata": {},
     "output_type": "display_data"
    },
    {
     "data": {
      "application/vnd.jupyter.widget-view+json": {
       "model_id": "49db6550a20c4267bceb7e2b59d76e7d",
       "version_major": 2,
       "version_minor": 0
      },
      "text/plain": [
       "1_Pooling/config.json:   0%|          | 0.00/190 [00:00<?, ?B/s]"
      ]
     },
     "metadata": {},
     "output_type": "display_data"
    }
   ],
   "source": [
    "from llama_index.embeddings.huggingface import HuggingFaceEmbedding\n",
    "\n",
    "embed_model = HuggingFaceEmbedding(model_name=\"BAAI/bge-small-en-v1.5\")"
   ]
  },
  {
   "cell_type": "code",
   "execution_count": 10,
   "id": "7bd2124c-5d04-48ff-b075-0bce1a45fffa",
   "metadata": {
    "tags": []
   },
   "outputs": [],
   "source": [
    "llm = Vertex(\"gemini-pro\")\n",
    "\n",
    "Settings.embed_model = embed_model\n",
    "Settings.llm = llm"
   ]
  },
  {
   "cell_type": "code",
   "execution_count": 11,
   "id": "e0a1d05e-a700-4c43-bbe5-8d34ed9ec360",
   "metadata": {
    "tags": []
   },
   "outputs": [
    {
     "data": {
      "application/json": {
       "day1": [
        {
         "day": "Day 1",
         "room": "outside",
         "session_type": "General",
         "speaker": "N/A",
         "time": "8:00 AM - 9:00 AM",
         "title": "Registration",
         "track": "General"
        },
        {
         "day": "Day 1",
         "room": "room 1",
         "session_type": "General",
         "speaker": "N/A",
         "time": "9:05 AM - 9:10 AM",
         "title": "Welcome to DevFest Lagos, Ground Rules and Safety",
         "track": "General"
        },
        {
         "day": "Day 1",
         "room": "room 1",
         "session_type": "General",
         "speaker": "N/A",
         "time": "9:15 AM - 9:45 AM",
         "title": "Keynote",
         "track": "General"
        },
        {
         "day": "Day 1",
         "room": "room 1",
         "session_type": "General",
         "speaker": "N/A",
         "time": "9:50 AM - 10:30 AM",
         "title": "TBD",
         "track": "General"
        },
        {
         "day": "Day 1",
         "room": "room 2",
         "session_type": "General",
         "speaker": "N/A",
         "time": "9:50 AM - 10:30 AM",
         "title": "Building Resilience Systems - Flexibility and Adaptability",
         "track": "General"
        },
        {
         "day": "Day 1",
         "room": "room 1",
         "session_type": "General",
         "speaker": "N/A",
         "time": "10:35 AM - 11:15 AM",
         "title": "TBD",
         "track": "General"
        },
        {
         "day": "Day 1",
         "room": "room 2",
         "session_type": "General",
         "speaker": "N/A",
         "time": "10:35 AM - 11:15 AM",
         "title": "Empowering Development at Every Scale with FlutterFlow",
         "track": "General"
        },
        {
         "day": "Day 1",
         "room": "outside",
         "session_type": "General",
         "speaker": "N/A",
         "time": "11:15 AM - 11:25 AM",
         "title": "Walk To Take Photograph",
         "track": "General"
        },
        {
         "day": "Day 1",
         "room": "outside",
         "session_type": "General",
         "speaker": "N/A",
         "time": "11:25 AM - 12:00 PM",
         "title": "Group Photograph",
         "track": "General"
        },
        {
         "day": "Day 1",
         "room": "outside",
         "session_type": "General",
         "speaker": "N/A",
         "time": "12:00 PM - 12:40 PM",
         "title": "Lunch",
         "track": "General"
        },
        {
         "day": "Day 1",
         "room": "outside",
         "session_type": "General",
         "speaker": "N/A",
         "time": "12:40 PM - 1:00 PM",
         "title": "Walk To Venue / Cleanup",
         "track": "General"
        },
        {
         "day": "Day 1",
         "room": "Main Hall",
         "session_type": "General",
         "speaker": "N/A",
         "time": "5:00 PM - 6:00 PM",
         "title": "Networking",
         "track": "General"
        },
        {
         "day": "Day 1",
         "room": "Breakout Room",
         "session_type": "Breakout",
         "speaker": "Yves Kalume",
         "time": "1:00 PM - 1:45 PM",
         "title": "Experiment Your Way To Success: A/B Testing for your Android Apps",
         "track": "Breakout"
        },
        {
         "day": "Day 1",
         "room": "Breakout Room",
         "session_type": "Breakout",
         "speaker": "Confidence Okoghenun",
         "time": "1:50 PM - 2:35 PM",
         "title": "Building Web Apps That Work Offline and Beyond",
         "track": "Breakout"
        },
        {
         "day": "Day 1",
         "room": "Breakout Room",
         "session_type": "Breakout",
         "speaker": "Olivier Leplus",
         "time": "2:40 PM - 3:25 PM",
         "title": "CSS Rises from the Ashes: (Re)Become Friends with Your Stylesheet",
         "track": "Breakout"
        },
        {
         "day": "Day 1",
         "room": "Breakout Room",
         "session_type": "Breakout",
         "speaker": "Gift Ojeabulu",
         "time": "3:30 PM - 4:15 PM",
         "title": "The Role of Developer Relations in the Success of AI/ML Products",
         "track": "Breakout"
        },
        {
         "day": "Day 1",
         "room": "Breakout Room",
         "session_type": "Breakout",
         "speaker": "Adeyanju Michael",
         "time": "4:20 PM - 5:05 PM",
         "title": "Building a Multi-Tenant SaaS with Microservices on Kubernetes",
         "track": "Breakout"
        },
        {
         "day": "Day 1",
         "room": "Breakout Room",
         "session_type": "Breakout",
         "speaker": "Nkorom Ezekiel Kingsley",
         "time": "5:05 PM - 5:50 PM",
         "title": "Cybersecurity Awareness For Small And Medium Enterprises",
         "track": "Breakout"
        }
       ],
       "day2": []
      },
      "text/plain": [
       "<IPython.core.display.JSON object>"
      ]
     },
     "metadata": {
      "application/json": {
       "expanded": false,
       "root": "root"
      }
     },
     "output_type": "display_data"
    }
   ],
   "source": [
    "from typing import Dict, List\n",
    "from llama_index.core.tools import FunctionTool\n",
    "import requests\n",
    "import json\n",
    "from bs4 import BeautifulSoup\n",
    "\n",
    "def get_devfest_schedule() -> Dict[str, List[Dict]]:\n",
    "    \"\"\"\n",
    "    Scrape and return the DevFest Lagos schedule as JSON data.\n",
    "    Returns a dictionary with days as keys and lists of session information as values.\n",
    "    \n",
    "    Example output:\n",
    "    {\n",
    "        \"day1\": [\n",
    "            {\n",
    "                \"title\": \"Opening Keynote\",\n",
    "                \"speaker\": \"John Doe\",\n",
    "                \"time\": \"9:00 AM\",\n",
    "                \"track\": \"General\",\n",
    "                \"room\": \"Main Hall\",\n",
    "                \"session_type\": \"General\"\n",
    "            },\n",
    "            ...\n",
    "        ],\n",
    "        \"day2\": [...]\n",
    "    }\n",
    "    \"\"\"\n",
    "    # Initialize schedule structure\n",
    "    schedule = {\n",
    "        'day1': [],\n",
    "        'day2': []\n",
    "    }\n",
    "    \n",
    "    try:\n",
    "        # Set up session and get page content\n",
    "        session = requests.Session()\n",
    "        session.headers.update({\n",
    "            'User-Agent': 'Mozilla/5.0 (Windows NT 10.0; Win64; x64) AppleWebKit/537.36',\n",
    "            'Accept': 'text/html,application/xhtml+xml,application/xml;q=0.9,image/webp,*/*;q=0.8',\n",
    "        })\n",
    "        \n",
    "        # Get HTML content\n",
    "        response = session.get(\"https://devfestlagos.com/schedule\")\n",
    "        response.raise_for_status()\n",
    "        soup = BeautifulSoup(response.text, 'html.parser')\n",
    "        \n",
    "        # Find schedule container\n",
    "        schedule_container = soup.find('div', class_='schedule_scheduleItemsContainer__wkWNt')\n",
    "        \n",
    "        if schedule_container:\n",
    "            # Extract general sessions\n",
    "            general_events = schedule_container.find_all('div', class_='EventBlock_event__UsJua')\n",
    "            for event in general_events:\n",
    "                session_data = {\n",
    "                    'title': event.find('h3').text.strip(),\n",
    "                    'time': event.find('div', class_='EventBlock_time__RQGQz').text.strip() if event.find('div', class_='EventBlock_time__RQGQz') else \"Time not specified\",\n",
    "                    'room': event.find('div', class_='EventBlock_venue__wjpVu').find('span').text.strip() if event.find('div', class_='EventBlock_venue__wjpVu') and event.find('div', class_='EventBlock_venue__wjpVu').find('span') else \"Main Hall\",\n",
    "                    'speaker': \"N/A\",\n",
    "                    'track': \"General\",\n",
    "                    'session_type': \"General\",\n",
    "                    'day': \"Day 1\"\n",
    "                }\n",
    "                schedule['day1'].append(session_data)\n",
    "            \n",
    "            # Extract breakout sessions\n",
    "            breakout_container = schedule_container.find('div', class_='EventCategory_eventSchedule__events__cCu22')\n",
    "            if breakout_container:\n",
    "                breakout_events = breakout_container.find_all('div', class_='EventCategory_eventSchedule__event__AhbY3')\n",
    "                for event in breakout_events:\n",
    "                    session_data = {\n",
    "                        'title': event.find('h3', class_='EventCategory_eventSchedule__event-title__F2air').text.strip() if event.find('h3', class_='EventCategory_eventSchedule__event-title__F2air') else \"No Title\",\n",
    "                        'speaker': event.find('p', class_='EventCategory_eventSchedule__event-facilitator__nWvuU').text.strip() if event.find('p', class_='EventCategory_eventSchedule__event-facilitator__nWvuU') else \"Not specified\",\n",
    "                        'time': event.find('div', class_='EventCategory_eventSchedule__event-time__f_zfq').find('span', class_='text-sm').text.strip() if event.find('div', class_='EventCategory_eventSchedule__event-time__f_zfq') else \"Time not specified\",\n",
    "                        'room': \"Breakout Room\",\n",
    "                        'track': \"Breakout\",\n",
    "                        'session_type': \"Breakout\",\n",
    "                        'day': \"Day 1\"\n",
    "                    }\n",
    "                    schedule['day1'].append(session_data)\n",
    "    \n",
    "    except Exception as e:\n",
    "        print(f\"Error scraping schedule: {str(e)}\")\n",
    "        \n",
    "    return schedule\n",
    "\n",
    "# Create the Llama Index Function Tool\n",
    "devfest_schedule_tool = FunctionTool.from_defaults(\n",
    "    fn=get_devfest_schedule,\n",
    "    name=\"get_devfest_schedule\",\n",
    "    description=\"Get the complete DevFest Lagos schedule as JSON data\"\n",
    ")\n",
    "\n",
    "# Example usage in Jupyter notebook\n",
    "if __name__ == \"__main__\":\n",
    "    # Get the schedule\n",
    "    schedule_data = get_devfest_schedule()\n",
    "    \n",
    "    # Display as JSON in notebook\n",
    "    from IPython.display import JSON, display\n",
    "    display(JSON(schedule_data))\n",
    "    \n",
    "    # Save to file\n",
    "    with open('devfest_schedule.json', 'w', encoding='utf-8') as f:\n",
    "        json.dump(schedule_data, f, ensure_ascii=False, indent=2)"
   ]
  },
  {
   "cell_type": "code",
   "execution_count": 6,
   "id": "247ff309-e2f2-4d16-8e56-864fbbdd94f5",
   "metadata": {
    "tags": []
   },
   "outputs": [
    {
     "data": {
      "application/json": {
       "day1": [
        {
         "day": "Day 1",
         "room": "outside",
         "session_type": "General",
         "speaker": "N/A",
         "time": "8:00 AM - 9:00 AM",
         "title": "Registration",
         "track": "General"
        },
        {
         "day": "Day 1",
         "room": "room 1",
         "session_type": "General",
         "speaker": "N/A",
         "time": "9:05 AM - 9:10 AM",
         "title": "Welcome to DevFest Lagos, Ground Rules and Safety",
         "track": "General"
        },
        {
         "day": "Day 1",
         "room": "room 1",
         "session_type": "General",
         "speaker": "N/A",
         "time": "9:15 AM - 9:45 AM",
         "title": "Keynote",
         "track": "General"
        },
        {
         "day": "Day 1",
         "room": "room 1",
         "session_type": "General",
         "speaker": "N/A",
         "time": "9:50 AM - 10:30 AM",
         "title": "TBD",
         "track": "General"
        },
        {
         "day": "Day 1",
         "room": "room 2",
         "session_type": "General",
         "speaker": "N/A",
         "time": "9:50 AM - 10:30 AM",
         "title": "Building Resilience Systems - Flexibility and Adaptability",
         "track": "General"
        },
        {
         "day": "Day 1",
         "room": "room 1",
         "session_type": "General",
         "speaker": "N/A",
         "time": "10:35 AM - 11:15 AM",
         "title": "TBD",
         "track": "General"
        },
        {
         "day": "Day 1",
         "room": "room 2",
         "session_type": "General",
         "speaker": "N/A",
         "time": "10:35 AM - 11:15 AM",
         "title": "Empowering Development at Every Scale with FlutterFlow",
         "track": "General"
        },
        {
         "day": "Day 1",
         "room": "outside",
         "session_type": "General",
         "speaker": "N/A",
         "time": "11:15 AM - 11:25 AM",
         "title": "Walk To Take Photograph",
         "track": "General"
        },
        {
         "day": "Day 1",
         "room": "outside",
         "session_type": "General",
         "speaker": "N/A",
         "time": "11:25 AM - 12:00 PM",
         "title": "Group Photograph",
         "track": "General"
        },
        {
         "day": "Day 1",
         "room": "outside",
         "session_type": "General",
         "speaker": "N/A",
         "time": "12:00 PM - 12:40 PM",
         "title": "Lunch",
         "track": "General"
        },
        {
         "day": "Day 1",
         "room": "outside",
         "session_type": "General",
         "speaker": "N/A",
         "time": "12:40 PM - 1:00 PM",
         "title": "Walk To Venue / Cleanup",
         "track": "General"
        },
        {
         "day": "Day 1",
         "room": "Main Hall",
         "session_type": "General",
         "speaker": "N/A",
         "time": "5:00 PM - 6:00 PM",
         "title": "Networking",
         "track": "General"
        },
        {
         "day": "Day 1",
         "room": "Breakout Room",
         "session_type": "Breakout",
         "speaker": "Yves Kalume",
         "time": "1:00 PM - 1:45 PM",
         "title": "Experiment Your Way To Success: A/B Testing for your Android Apps",
         "track": "Breakout"
        },
        {
         "day": "Day 1",
         "room": "Breakout Room",
         "session_type": "Breakout",
         "speaker": "Confidence Okoghenun",
         "time": "1:50 PM - 2:35 PM",
         "title": "Building Web Apps That Work Offline and Beyond",
         "track": "Breakout"
        },
        {
         "day": "Day 1",
         "room": "Breakout Room",
         "session_type": "Breakout",
         "speaker": "Olivier Leplus",
         "time": "2:40 PM - 3:25 PM",
         "title": "CSS Rises from the Ashes: (Re)Become Friends with Your Stylesheet",
         "track": "Breakout"
        },
        {
         "day": "Day 1",
         "room": "Breakout Room",
         "session_type": "Breakout",
         "speaker": "Gift Ojeabulu",
         "time": "3:30 PM - 4:15 PM",
         "title": "The Role of Developer Relations in the Success of AI/ML Products",
         "track": "Breakout"
        },
        {
         "day": "Day 1",
         "room": "Breakout Room",
         "session_type": "Breakout",
         "speaker": "Adeyanju Michael",
         "time": "4:20 PM - 5:05 PM",
         "title": "Building a Multi-Tenant SaaS with Microservices on Kubernetes",
         "track": "Breakout"
        },
        {
         "day": "Day 1",
         "room": "Breakout Room",
         "session_type": "Breakout",
         "speaker": "Nkorom Ezekiel Kingsley",
         "time": "5:05 PM - 5:50 PM",
         "title": "Cybersecurity Awareness For Small And Medium Enterprises",
         "track": "Breakout"
        }
       ],
       "day2": []
      },
      "text/plain": [
       "<IPython.core.display.JSON object>"
      ]
     },
     "metadata": {
      "application/json": {
       "expanded": false,
       "root": "root"
      }
     },
     "output_type": "display_data"
    }
   ],
   "source": [
    "# Example usage in Jupyter notebook\n",
    "if __name__ == \"__main__\":\n",
    "    # Get the schedule\n",
    "    schedule_data = get_devfest_schedule()\n",
    "    \n",
    "    # Display as JSON in notebook\n",
    "    from IPython.display import JSON, display\n",
    "    display(JSON(schedule_data))\n",
    "    \n",
    "    # Save to file\n",
    "    with open('devfest_schedule.json', 'w', encoding='utf-8') as f:\n",
    "        json.dump(schedule_data, f, ensure_ascii=False, indent=2)"
   ]
  },
  {
   "cell_type": "code",
   "execution_count": 7,
   "id": "f70c9c3d-9a0c-40dd-b913-d7206f9f995a",
   "metadata": {
    "tags": []
   },
   "outputs": [
    {
     "data": {
      "text/plain": [
       "{'day1': [{'title': 'Registration',\n",
       "   'time': '8:00 AM - 9:00 AM',\n",
       "   'room': 'outside',\n",
       "   'speaker': 'N/A',\n",
       "   'track': 'General',\n",
       "   'session_type': 'General',\n",
       "   'day': 'Day 1'},\n",
       "  {'title': 'Welcome to DevFest Lagos, Ground Rules and Safety',\n",
       "   'time': '9:05 AM - 9:10 AM',\n",
       "   'room': 'room 1',\n",
       "   'speaker': 'N/A',\n",
       "   'track': 'General',\n",
       "   'session_type': 'General',\n",
       "   'day': 'Day 1'},\n",
       "  {'title': 'Keynote',\n",
       "   'time': '9:15 AM - 9:45 AM',\n",
       "   'room': 'room 1',\n",
       "   'speaker': 'N/A',\n",
       "   'track': 'General',\n",
       "   'session_type': 'General',\n",
       "   'day': 'Day 1'},\n",
       "  {'title': 'TBD',\n",
       "   'time': '9:50 AM - 10:30 AM',\n",
       "   'room': 'room 1',\n",
       "   'speaker': 'N/A',\n",
       "   'track': 'General',\n",
       "   'session_type': 'General',\n",
       "   'day': 'Day 1'},\n",
       "  {'title': 'Building Resilience Systems - Flexibility and Adaptability',\n",
       "   'time': '9:50 AM - 10:30 AM',\n",
       "   'room': 'room 2',\n",
       "   'speaker': 'N/A',\n",
       "   'track': 'General',\n",
       "   'session_type': 'General',\n",
       "   'day': 'Day 1'},\n",
       "  {'title': 'TBD',\n",
       "   'time': '10:35 AM - 11:15 AM',\n",
       "   'room': 'room 1',\n",
       "   'speaker': 'N/A',\n",
       "   'track': 'General',\n",
       "   'session_type': 'General',\n",
       "   'day': 'Day 1'},\n",
       "  {'title': 'Empowering Development at Every Scale with FlutterFlow',\n",
       "   'time': '10:35 AM - 11:15 AM',\n",
       "   'room': 'room 2',\n",
       "   'speaker': 'N/A',\n",
       "   'track': 'General',\n",
       "   'session_type': 'General',\n",
       "   'day': 'Day 1'},\n",
       "  {'title': 'Walk To Take Photograph',\n",
       "   'time': '11:15 AM - 11:25 AM',\n",
       "   'room': 'outside',\n",
       "   'speaker': 'N/A',\n",
       "   'track': 'General',\n",
       "   'session_type': 'General',\n",
       "   'day': 'Day 1'},\n",
       "  {'title': 'Group Photograph',\n",
       "   'time': '11:25 AM - 12:00 PM',\n",
       "   'room': 'outside',\n",
       "   'speaker': 'N/A',\n",
       "   'track': 'General',\n",
       "   'session_type': 'General',\n",
       "   'day': 'Day 1'},\n",
       "  {'title': 'Lunch',\n",
       "   'time': '12:00 PM - 12:40 PM',\n",
       "   'room': 'outside',\n",
       "   'speaker': 'N/A',\n",
       "   'track': 'General',\n",
       "   'session_type': 'General',\n",
       "   'day': 'Day 1'},\n",
       "  {'title': 'Walk To Venue / Cleanup',\n",
       "   'time': '12:40 PM - 1:00 PM',\n",
       "   'room': 'outside',\n",
       "   'speaker': 'N/A',\n",
       "   'track': 'General',\n",
       "   'session_type': 'General',\n",
       "   'day': 'Day 1'},\n",
       "  {'title': 'Networking',\n",
       "   'time': '5:00 PM - 6:00 PM',\n",
       "   'room': 'Main Hall',\n",
       "   'speaker': 'N/A',\n",
       "   'track': 'General',\n",
       "   'session_type': 'General',\n",
       "   'day': 'Day 1'},\n",
       "  {'title': 'Experiment Your Way To Success: A/B Testing for your Android Apps',\n",
       "   'speaker': 'Yves Kalume',\n",
       "   'time': '1:00 PM - 1:45 PM',\n",
       "   'room': 'Breakout Room',\n",
       "   'track': 'Breakout',\n",
       "   'session_type': 'Breakout',\n",
       "   'day': 'Day 1'},\n",
       "  {'title': 'Building Web Apps That Work Offline and Beyond',\n",
       "   'speaker': 'Confidence Okoghenun',\n",
       "   'time': '1:50 PM - 2:35 PM',\n",
       "   'room': 'Breakout Room',\n",
       "   'track': 'Breakout',\n",
       "   'session_type': 'Breakout',\n",
       "   'day': 'Day 1'},\n",
       "  {'title': 'CSS Rises from the Ashes: (Re)Become Friends with Your Stylesheet',\n",
       "   'speaker': 'Olivier Leplus',\n",
       "   'time': '2:40 PM - 3:25 PM',\n",
       "   'room': 'Breakout Room',\n",
       "   'track': 'Breakout',\n",
       "   'session_type': 'Breakout',\n",
       "   'day': 'Day 1'},\n",
       "  {'title': 'The Role of Developer Relations in the Success of AI/ML Products',\n",
       "   'speaker': 'Gift Ojeabulu',\n",
       "   'time': '3:30 PM - 4:15 PM',\n",
       "   'room': 'Breakout Room',\n",
       "   'track': 'Breakout',\n",
       "   'session_type': 'Breakout',\n",
       "   'day': 'Day 1'},\n",
       "  {'title': 'Building a Multi-Tenant SaaS with Microservices on Kubernetes',\n",
       "   'speaker': 'Adeyanju Michael',\n",
       "   'time': '4:20 PM - 5:05 PM',\n",
       "   'room': 'Breakout Room',\n",
       "   'track': 'Breakout',\n",
       "   'session_type': 'Breakout',\n",
       "   'day': 'Day 1'},\n",
       "  {'title': 'Cybersecurity Awareness For Small And Medium Enterprises',\n",
       "   'speaker': 'Nkorom Ezekiel Kingsley',\n",
       "   'time': '5:05 PM - 5:50 PM',\n",
       "   'room': 'Breakout Room',\n",
       "   'track': 'Breakout',\n",
       "   'session_type': 'Breakout',\n",
       "   'day': 'Day 1'}],\n",
       " 'day2': []}"
      ]
     },
     "execution_count": 7,
     "metadata": {},
     "output_type": "execute_result"
    }
   ],
   "source": [
    "schedule_data"
   ]
  },
  {
   "cell_type": "code",
   "execution_count": 14,
   "id": "3d769dc9-4cbc-4262-a1d7-5ba5e6f1d327",
   "metadata": {
    "tags": []
   },
   "outputs": [
    {
     "name": "stdout",
     "output_type": "stream",
     "text": [
      "Fetching DevFest schedule...\n"
     ]
    },
    {
     "data": {
      "application/json": {
       "day1": [
        {
         "day": "Day 1",
         "room": "outside",
         "session_type": "General",
         "speaker": "N/A",
         "time": "8:00 AM - 9:00 AM",
         "title": "Registration",
         "track": "General"
        },
        {
         "day": "Day 1",
         "room": "room 1",
         "session_type": "General",
         "speaker": "N/A",
         "time": "9:05 AM - 9:10 AM",
         "title": "Welcome to DevFest Lagos, Ground Rules and Safety",
         "track": "General"
        },
        {
         "day": "Day 1",
         "room": "room 1",
         "session_type": "General",
         "speaker": "N/A",
         "time": "9:15 AM - 9:45 AM",
         "title": "Keynote",
         "track": "General"
        },
        {
         "day": "Day 1",
         "room": "room 1",
         "session_type": "General",
         "speaker": "N/A",
         "time": "9:50 AM - 10:30 AM",
         "title": "TBD",
         "track": "General"
        },
        {
         "day": "Day 1",
         "room": "room 2",
         "session_type": "General",
         "speaker": "N/A",
         "time": "9:50 AM - 10:30 AM",
         "title": "Building Resilience Systems - Flexibility and Adaptability",
         "track": "General"
        },
        {
         "day": "Day 1",
         "room": "room 1",
         "session_type": "General",
         "speaker": "N/A",
         "time": "10:35 AM - 11:15 AM",
         "title": "TBD",
         "track": "General"
        },
        {
         "day": "Day 1",
         "room": "room 2",
         "session_type": "General",
         "speaker": "N/A",
         "time": "10:35 AM - 11:15 AM",
         "title": "Empowering Development at Every Scale with FlutterFlow",
         "track": "General"
        },
        {
         "day": "Day 1",
         "room": "outside",
         "session_type": "General",
         "speaker": "N/A",
         "time": "11:15 AM - 11:25 AM",
         "title": "Walk To Take Photograph",
         "track": "General"
        },
        {
         "day": "Day 1",
         "room": "outside",
         "session_type": "General",
         "speaker": "N/A",
         "time": "11:25 AM - 12:00 PM",
         "title": "Group Photograph",
         "track": "General"
        },
        {
         "day": "Day 1",
         "room": "outside",
         "session_type": "General",
         "speaker": "N/A",
         "time": "12:00 PM - 12:40 PM",
         "title": "Lunch",
         "track": "General"
        },
        {
         "day": "Day 1",
         "room": "outside",
         "session_type": "General",
         "speaker": "N/A",
         "time": "12:40 PM - 1:00 PM",
         "title": "Walk To Venue / Cleanup",
         "track": "General"
        },
        {
         "day": "Day 1",
         "room": "Main Hall",
         "session_type": "General",
         "speaker": "N/A",
         "time": "5:00 PM - 6:00 PM",
         "title": "Networking",
         "track": "General"
        },
        {
         "day": "Day 1",
         "room": "Breakout Room",
         "session_type": "Breakout",
         "speaker": "Yves Kalume",
         "time": "1:00 PM - 1:45 PM",
         "title": "Experiment Your Way To Success: A/B Testing for your Android Apps",
         "track": "Breakout"
        },
        {
         "day": "Day 1",
         "room": "Breakout Room",
         "session_type": "Breakout",
         "speaker": "Confidence Okoghenun",
         "time": "1:50 PM - 2:35 PM",
         "title": "Building Web Apps That Work Offline and Beyond",
         "track": "Breakout"
        },
        {
         "day": "Day 1",
         "room": "Breakout Room",
         "session_type": "Breakout",
         "speaker": "Olivier Leplus",
         "time": "2:40 PM - 3:25 PM",
         "title": "CSS Rises from the Ashes: (Re)Become Friends with Your Stylesheet",
         "track": "Breakout"
        },
        {
         "day": "Day 1",
         "room": "Breakout Room",
         "session_type": "Breakout",
         "speaker": "Gift Ojeabulu",
         "time": "3:30 PM - 4:15 PM",
         "title": "The Role of Developer Relations in the Success of AI/ML Products",
         "track": "Breakout"
        },
        {
         "day": "Day 1",
         "room": "Breakout Room",
         "session_type": "Breakout",
         "speaker": "Adeyanju Michael",
         "time": "4:20 PM - 5:05 PM",
         "title": "Building a Multi-Tenant SaaS with Microservices on Kubernetes",
         "track": "Breakout"
        },
        {
         "day": "Day 1",
         "room": "Breakout Room",
         "session_type": "Breakout",
         "speaker": "Nkorom Ezekiel Kingsley",
         "time": "5:05 PM - 5:50 PM",
         "title": "Cybersecurity Awareness For Small And Medium Enterprises",
         "track": "Breakout"
        }
       ],
       "day2": []
      },
      "text/plain": [
       "<IPython.core.display.JSON object>"
      ]
     },
     "metadata": {
      "application/json": {
       "expanded": false,
       "root": "root"
      }
     },
     "output_type": "display_data"
    },
    {
     "name": "stdout",
     "output_type": "stream",
     "text": [
      "\n",
      "Converting to Documents...\n",
      "Created 18 Document objects\n",
      "\n",
      "Schedule saved to devfest_schedule.json\n",
      "\n",
      "Example Document content:\n",
      "\n",
      "            Title: Registration\n",
      "            Speaker: N/A\n",
      "            Time: 8:00 AM - 9:00 AM\n",
      "            Track: General\n",
      "            Room: outside\n",
      "            Session Type: General\n",
      "            Day: Day 1\n",
      "            \n",
      "\n",
      "Example Document metadata:\n",
      "{'day': 'Day 1', 'track': 'General', 'session_type': 'General', 'speaker': 'N/A', 'time': '8:00 AM - 9:00 AM', 'room': 'outside'}\n"
     ]
    }
   ],
   "source": [
    "from typing import Dict, List\n",
    "from llama_index.core.tools import FunctionTool\n",
    "from llama_index.core.schema import Document\n",
    "import requests\n",
    "import json\n",
    "from bs4 import BeautifulSoup\n",
    "from dataclasses import dataclass\n",
    "from IPython.display import JSON, display\n",
    "\n",
    "@dataclass\n",
    "class DevFestSession:\n",
    "    \"\"\"Data class for storing session information\"\"\"\n",
    "    title: str\n",
    "    speaker: str\n",
    "    time: str\n",
    "    track: str\n",
    "    day: str\n",
    "    room: str\n",
    "    session_type: str\n",
    "\n",
    "def get_devfest_schedule() -> Dict[str, List[Dict]]:\n",
    "    \"\"\"\n",
    "    Scrape and return the DevFest Lagos schedule as JSON data.\n",
    "    Returns a dictionary with days as keys and lists of session information as values.\n",
    "    \"\"\"\n",
    "    # Initialize schedule structure\n",
    "    schedule = {\n",
    "        'day1': [],\n",
    "        'day2': []\n",
    "    }\n",
    "    \n",
    "    try:\n",
    "        # Set up session and get page content\n",
    "        session = requests.Session()\n",
    "        session.headers.update({\n",
    "            'User-Agent': 'Mozilla/5.0 (Windows NT 10.0; Win64; x64) AppleWebKit/537.36',\n",
    "            'Accept': 'text/html,application/xhtml+xml,application/xml;q=0.9,image/webp,*/*;q=0.8',\n",
    "        })\n",
    "        \n",
    "        # Get HTML content\n",
    "        response = session.get(\"https://devfestlagos.com/schedule\")\n",
    "        response.raise_for_status()\n",
    "        soup = BeautifulSoup(response.text, 'html.parser')\n",
    "        \n",
    "        # Find schedule container\n",
    "        schedule_container = soup.find('div', class_='schedule_scheduleItemsContainer__wkWNt')\n",
    "        \n",
    "        if schedule_container:\n",
    "            # Extract general sessions\n",
    "            general_events = schedule_container.find_all('div', class_='EventBlock_event__UsJua')\n",
    "            for event in general_events:\n",
    "                session_data = {\n",
    "                    'title': event.find('h3').text.strip(),\n",
    "                    'time': event.find('div', class_='EventBlock_time__RQGQz').text.strip() if event.find('div', class_='EventBlock_time__RQGQz') else \"Time not specified\",\n",
    "                    'room': event.find('div', class_='EventBlock_venue__wjpVu').find('span').text.strip() if event.find('div', class_='EventBlock_venue__wjpVu') and event.find('div', class_='EventBlock_venue__wjpVu').find('span') else \"Main Hall\",\n",
    "                    'speaker': \"N/A\",\n",
    "                    'track': \"General\",\n",
    "                    'session_type': \"General\",\n",
    "                    'day': \"Day 1\"\n",
    "                }\n",
    "                schedule['day1'].append(session_data)\n",
    "            \n",
    "            # Extract breakout sessions\n",
    "            breakout_container = schedule_container.find('div', class_='EventCategory_eventSchedule__events__cCu22')\n",
    "            if breakout_container:\n",
    "                breakout_events = breakout_container.find_all('div', class_='EventCategory_eventSchedule__event__AhbY3')\n",
    "                for event in breakout_events:\n",
    "                    session_data = {\n",
    "                        'title': event.find('h3', class_='EventCategory_eventSchedule__event-title__F2air').text.strip() if event.find('h3', class_='EventCategory_eventSchedule__event-title__F2air') else \"No Title\",\n",
    "                        'speaker': event.find('p', class_='EventCategory_eventSchedule__event-facilitator__nWvuU').text.strip() if event.find('p', class_='EventCategory_eventSchedule__event-facilitator__nWvuU') else \"Not specified\",\n",
    "                        'time': event.find('div', class_='EventCategory_eventSchedule__event-time__f_zfq').find('span', class_='text-sm').text.strip() if event.find('div', class_='EventCategory_eventSchedule__event-time__f_zfq') else \"Time not specified\",\n",
    "                        'room': \"Breakout Room\",\n",
    "                        'track': \"Breakout\",\n",
    "                        'session_type': \"Breakout\",\n",
    "                        'day': \"Day 1\"\n",
    "                    }\n",
    "                    schedule['day1'].append(session_data)\n",
    "    \n",
    "    except Exception as e:\n",
    "        print(f\"Error scraping schedule: {str(e)}\")\n",
    "        \n",
    "    return schedule\n",
    "\n",
    "def convert_to_documents(schedule_data: Dict[str, List[Dict]]) -> List[Document]:\n",
    "    \"\"\"\n",
    "    Convert schedule data into LlamaIndex Document objects\n",
    "    \"\"\"\n",
    "    documents = []\n",
    "    \n",
    "    for day, sessions in schedule_data.items():\n",
    "        for session in sessions:\n",
    "            # Create formatted content\n",
    "            content = f\"\"\"\n",
    "            Title: {session['title']}\n",
    "            Speaker: {session['speaker']}\n",
    "            Time: {session['time']}\n",
    "            Track: {session['track']}\n",
    "            Room: {session['room']}\n",
    "            Session Type: {session['session_type']}\n",
    "            Day: {session['day']}\n",
    "            \"\"\"\n",
    "            \n",
    "            # Create metadata for better querying\n",
    "            metadata = {\n",
    "                \"day\": session['day'],\n",
    "                \"track\": session['track'],\n",
    "                \"session_type\": session['session_type'],\n",
    "                \"speaker\": session['speaker'],\n",
    "                \"time\": session['time'],\n",
    "                \"room\": session['room']\n",
    "            }\n",
    "            \n",
    "            # Create Document object\n",
    "            doc = Document(\n",
    "                text=content,\n",
    "                metadata=metadata\n",
    "            )\n",
    "            documents.append(doc)\n",
    "    \n",
    "    return documents\n",
    "\n",
    "class DevFestScheduleTool:\n",
    "    \"\"\"Tool for handling DevFest schedule data\"\"\"\n",
    "    \n",
    "    def __init__(self):\n",
    "        self.schedule_data = None\n",
    "        self.documents = None\n",
    "    \n",
    "    def get_schedule(self) -> Dict[str, List[Dict]]:\n",
    "        \"\"\"Get schedule data\"\"\"\n",
    "        if not self.schedule_data:\n",
    "            self.schedule_data = get_devfest_schedule()\n",
    "        return self.schedule_data\n",
    "    \n",
    "    def get_documents(self) -> List[Document]:\n",
    "        \"\"\"Get schedule as Document objects\"\"\"\n",
    "        if not self.documents:\n",
    "            schedule_data = self.get_schedule()\n",
    "            self.documents = convert_to_documents(schedule_data)\n",
    "        return self.documents\n",
    "    \n",
    "    def save_schedule(self, filename: str = 'devfest_schedule.json'):\n",
    "        \"\"\"Save schedule to JSON file\"\"\"\n",
    "        schedule_data = self.get_schedule()\n",
    "        with open(filename, 'w', encoding='utf-8') as f:\n",
    "            json.dump(schedule_data, f, ensure_ascii=False, indent=2)\n",
    "    \n",
    "    def display_schedule(self):\n",
    "        \"\"\"Display schedule in notebook\"\"\"\n",
    "        schedule_data = self.get_schedule()\n",
    "        display(JSON(schedule_data))\n",
    "\n",
    "# Create the Llama Index Function Tool\n",
    "devfest_schedule_tool = FunctionTool.from_defaults(\n",
    "    fn=get_devfest_schedule,\n",
    "    name=\"get_devfest_schedule\",\n",
    "    description=\"Get the complete DevFest Lagos schedule as JSON data and convert to Document objects for indexing\"\n",
    ")\n",
    "\n",
    "# Example usage in Jupyter notebook\n",
    "if __name__ == \"__main__\":\n",
    "    # Create tool instance\n",
    "    tool = DevFestScheduleTool()\n",
    "    \n",
    "    # Get and display schedule\n",
    "    print(\"Fetching DevFest schedule...\")\n",
    "    tool.display_schedule()\n",
    "    \n",
    "    # Get documents\n",
    "    print(\"\\nConverting to Documents...\")\n",
    "    documents = tool.get_documents()\n",
    "    print(f\"Created {len(documents)} Document objects\")\n",
    "    \n",
    "    # Save schedule\n",
    "    tool.save_schedule()\n",
    "    print(\"\\nSchedule saved to devfest_schedule.json\")\n",
    "    \n",
    "    # Example of document content\n",
    "    if documents:\n",
    "        print(\"\\nExample Document content:\")\n",
    "        print(documents[0].text)\n",
    "        print(\"\\nExample Document metadata:\")\n",
    "        print(documents[0].metadata)"
   ]
  },
  {
   "cell_type": "code",
   "execution_count": 15,
   "id": "a2c17c98-b943-414c-b6b0-c476374f086b",
   "metadata": {
    "tags": []
   },
   "outputs": [
    {
     "data": {
      "application/json": {
       "day1": [
        {
         "day": "Day 1",
         "room": "outside",
         "session_type": "General",
         "speaker": "N/A",
         "time": "8:00 AM - 9:00 AM",
         "title": "Registration",
         "track": "General"
        },
        {
         "day": "Day 1",
         "room": "room 1",
         "session_type": "General",
         "speaker": "N/A",
         "time": "9:05 AM - 9:10 AM",
         "title": "Welcome to DevFest Lagos, Ground Rules and Safety",
         "track": "General"
        },
        {
         "day": "Day 1",
         "room": "room 1",
         "session_type": "General",
         "speaker": "N/A",
         "time": "9:15 AM - 9:45 AM",
         "title": "Keynote",
         "track": "General"
        },
        {
         "day": "Day 1",
         "room": "room 1",
         "session_type": "General",
         "speaker": "N/A",
         "time": "9:50 AM - 10:30 AM",
         "title": "TBD",
         "track": "General"
        },
        {
         "day": "Day 1",
         "room": "room 2",
         "session_type": "General",
         "speaker": "N/A",
         "time": "9:50 AM - 10:30 AM",
         "title": "Building Resilience Systems - Flexibility and Adaptability",
         "track": "General"
        },
        {
         "day": "Day 1",
         "room": "room 1",
         "session_type": "General",
         "speaker": "N/A",
         "time": "10:35 AM - 11:15 AM",
         "title": "TBD",
         "track": "General"
        },
        {
         "day": "Day 1",
         "room": "room 2",
         "session_type": "General",
         "speaker": "N/A",
         "time": "10:35 AM - 11:15 AM",
         "title": "Empowering Development at Every Scale with FlutterFlow",
         "track": "General"
        },
        {
         "day": "Day 1",
         "room": "outside",
         "session_type": "General",
         "speaker": "N/A",
         "time": "11:15 AM - 11:25 AM",
         "title": "Walk To Take Photograph",
         "track": "General"
        },
        {
         "day": "Day 1",
         "room": "outside",
         "session_type": "General",
         "speaker": "N/A",
         "time": "11:25 AM - 12:00 PM",
         "title": "Group Photograph",
         "track": "General"
        },
        {
         "day": "Day 1",
         "room": "outside",
         "session_type": "General",
         "speaker": "N/A",
         "time": "12:00 PM - 12:40 PM",
         "title": "Lunch",
         "track": "General"
        },
        {
         "day": "Day 1",
         "room": "outside",
         "session_type": "General",
         "speaker": "N/A",
         "time": "12:40 PM - 1:00 PM",
         "title": "Walk To Venue / Cleanup",
         "track": "General"
        },
        {
         "day": "Day 1",
         "room": "Main Hall",
         "session_type": "General",
         "speaker": "N/A",
         "time": "5:00 PM - 6:00 PM",
         "title": "Networking",
         "track": "General"
        },
        {
         "day": "Day 1",
         "room": "Breakout Room",
         "session_type": "Breakout",
         "speaker": "Yves Kalume",
         "time": "1:00 PM - 1:45 PM",
         "title": "Experiment Your Way To Success: A/B Testing for your Android Apps",
         "track": "Breakout"
        },
        {
         "day": "Day 1",
         "room": "Breakout Room",
         "session_type": "Breakout",
         "speaker": "Confidence Okoghenun",
         "time": "1:50 PM - 2:35 PM",
         "title": "Building Web Apps That Work Offline and Beyond",
         "track": "Breakout"
        },
        {
         "day": "Day 1",
         "room": "Breakout Room",
         "session_type": "Breakout",
         "speaker": "Olivier Leplus",
         "time": "2:40 PM - 3:25 PM",
         "title": "CSS Rises from the Ashes: (Re)Become Friends with Your Stylesheet",
         "track": "Breakout"
        },
        {
         "day": "Day 1",
         "room": "Breakout Room",
         "session_type": "Breakout",
         "speaker": "Gift Ojeabulu",
         "time": "3:30 PM - 4:15 PM",
         "title": "The Role of Developer Relations in the Success of AI/ML Products",
         "track": "Breakout"
        },
        {
         "day": "Day 1",
         "room": "Breakout Room",
         "session_type": "Breakout",
         "speaker": "Adeyanju Michael",
         "time": "4:20 PM - 5:05 PM",
         "title": "Building a Multi-Tenant SaaS with Microservices on Kubernetes",
         "track": "Breakout"
        },
        {
         "day": "Day 1",
         "room": "Breakout Room",
         "session_type": "Breakout",
         "speaker": "Nkorom Ezekiel Kingsley",
         "time": "5:05 PM - 5:50 PM",
         "title": "Cybersecurity Awareness For Small And Medium Enterprises",
         "track": "Breakout"
        }
       ],
       "day2": []
      },
      "text/plain": [
       "<IPython.core.display.JSON object>"
      ]
     },
     "metadata": {
      "application/json": {
       "expanded": false,
       "root": "root"
      }
     },
     "output_type": "display_data"
    },
    {
     "name": "stdout",
     "output_type": "stream",
     "text": [
      "First session: \n",
      "            Title: Registration\n",
      "            Speaker: N/A\n",
      "            Time: 8:00 AM - 9:00 AM\n",
      "            Track: General\n",
      "            Room: outside\n",
      "            Session Type: General\n",
      "            Day: Day 1\n",
      "            \n"
     ]
    }
   ],
   "source": [
    "# Basic usage\n",
    "tool = DevFestScheduleTool()\n",
    "\n",
    "# Get JSON data\n",
    "schedule_data = tool.get_schedule()\n",
    "tool.display_schedule()\n",
    "\n",
    "# Get Document objects\n",
    "documents = tool.get_documents()\n",
    "\n",
    "# Save to file\n",
    "tool.save_schedule()\n",
    "\n",
    "# Access individual documents\n",
    "print(f\"First session: {documents[0].text}\")"
   ]
  },
  {
   "cell_type": "code",
   "execution_count": null,
   "id": "a70a264c-1bf1-4a9f-b937-0f974d9af042",
   "metadata": {},
   "outputs": [],
   "source": []
  },
  {
   "cell_type": "code",
   "execution_count": 16,
   "id": "b24f2e01-511d-4f49-8877-bdf5e952e377",
   "metadata": {
    "tags": []
   },
   "outputs": [
    {
     "name": "stdout",
     "output_type": "stream",
     "text": [
      "## Web Development Sessions at the Conference\n",
      "\n",
      "Based on the provided context, there is one session specifically focused on web development:\n",
      "\n",
      "**Building Web Apps That Work Offline and Beyond**\n",
      "\n",
      "* **Speaker:** Confidence Okoghenun\n",
      "* **Time:** 1:50 PM - 2:35 PM\n",
      "* **Track:** Breakout\n",
      "* **Room:** Breakout Room\n",
      "* **Day:** Day 1\n",
      "\n",
      "This session will likely cover topics such as:\n",
      "\n",
      "* Building web applications that can function offline\n",
      "* Techniques for enhancing the performance and functionality of web apps\n",
      "* Strategies for creating web apps that are accessible and user-friendly\n",
      "\n",
      "While the title of the session mentions \"offline\" functionality, it also suggests that it will delve into broader aspects of web development beyond just offline capabilities. \n",
      "\n",
      "**Additionally, the \"Empowering Development at Every Scale with FlutterFlow\" session may also be relevant to web development, as FlutterFlow is a platform for building cross-platform apps, including web apps.** \n",
      "\n",
      "This session is scheduled for:\n",
      "\n",
      "* **Time:** 10:35 AM - 11:15 AM\n",
      "* **Track:** General\n",
      "* **Room:** room 2\n",
      "* **Day:** Day 1\n",
      "\n",
      "It's worth checking the session description or attending the session to see if it covers web development topics that are of interest to you. \n",
      "\n"
     ]
    }
   ],
   "source": [
    "# Get documents\n",
    "tool = DevFestScheduleTool()\n",
    "documents = tool.get_documents()\n",
    "\n",
    "# Create index\n",
    "index = VectorStoreIndex.from_documents(documents)\n",
    "\n",
    "# Create query engine\n",
    "query_engine = index.as_query_engine()\n",
    "\n",
    "# Query the schedule\n",
    "response = query_engine.query(\"What sessions are about web development?\")\n",
    "print(response)"
   ]
  },
  {
   "cell_type": "code",
   "execution_count": 14,
   "id": "dfb566fb-5559-4f55-ac90-bb37a1db406e",
   "metadata": {
    "tags": []
   },
   "outputs": [
    {
     "data": {
      "text/plain": [
       "[Document(id_='9131b074-fe68-4f25-a30a-143ce2d2ae23', embedding=None, metadata={'day': 'Day 1', 'track': 'General', 'session_type': 'General', 'speaker': 'N/A', 'time': '8:00 AM - 9:00 AM', 'room': 'outside'}, excluded_embed_metadata_keys=[], excluded_llm_metadata_keys=[], relationships={}, text='\\n            Title: Registration\\n            Speaker: N/A\\n            Time: 8:00 AM - 9:00 AM\\n            Track: General\\n            Room: outside\\n            Session Type: General\\n            Day: Day 1\\n            ', mimetype='text/plain', start_char_idx=None, end_char_idx=None, text_template='{metadata_str}\\n\\n{content}', metadata_template='{key}: {value}', metadata_seperator='\\n'),\n",
       " Document(id_='fcdb667a-90b2-4e99-9b30-57a8de53391b', embedding=None, metadata={'day': 'Day 1', 'track': 'General', 'session_type': 'General', 'speaker': 'N/A', 'time': '9:05 AM - 9:10 AM', 'room': 'room 1'}, excluded_embed_metadata_keys=[], excluded_llm_metadata_keys=[], relationships={}, text='\\n            Title: Welcome to DevFest Lagos, Ground Rules and Safety\\n            Speaker: N/A\\n            Time: 9:05 AM - 9:10 AM\\n            Track: General\\n            Room: room 1\\n            Session Type: General\\n            Day: Day 1\\n            ', mimetype='text/plain', start_char_idx=None, end_char_idx=None, text_template='{metadata_str}\\n\\n{content}', metadata_template='{key}: {value}', metadata_seperator='\\n'),\n",
       " Document(id_='8e2c0c83-d88f-400c-be3c-586d61c575cb', embedding=None, metadata={'day': 'Day 1', 'track': 'General', 'session_type': 'General', 'speaker': 'N/A', 'time': '9:15 AM - 9:45 AM', 'room': 'room 1'}, excluded_embed_metadata_keys=[], excluded_llm_metadata_keys=[], relationships={}, text='\\n            Title: Keynote\\n            Speaker: N/A\\n            Time: 9:15 AM - 9:45 AM\\n            Track: General\\n            Room: room 1\\n            Session Type: General\\n            Day: Day 1\\n            ', mimetype='text/plain', start_char_idx=None, end_char_idx=None, text_template='{metadata_str}\\n\\n{content}', metadata_template='{key}: {value}', metadata_seperator='\\n'),\n",
       " Document(id_='396f7075-bc8d-4883-852d-7b2fb00de5fa', embedding=None, metadata={'day': 'Day 1', 'track': 'General', 'session_type': 'General', 'speaker': 'N/A', 'time': '9:50 AM - 10:30 AM', 'room': 'room 1'}, excluded_embed_metadata_keys=[], excluded_llm_metadata_keys=[], relationships={}, text='\\n            Title: TBD\\n            Speaker: N/A\\n            Time: 9:50 AM - 10:30 AM\\n            Track: General\\n            Room: room 1\\n            Session Type: General\\n            Day: Day 1\\n            ', mimetype='text/plain', start_char_idx=None, end_char_idx=None, text_template='{metadata_str}\\n\\n{content}', metadata_template='{key}: {value}', metadata_seperator='\\n'),\n",
       " Document(id_='5d139b72-afd5-49a5-9f7a-8a709ffb4962', embedding=None, metadata={'day': 'Day 1', 'track': 'General', 'session_type': 'General', 'speaker': 'N/A', 'time': '9:50 AM - 10:30 AM', 'room': 'room 2'}, excluded_embed_metadata_keys=[], excluded_llm_metadata_keys=[], relationships={}, text='\\n            Title: Building Resilience Systems - Flexibility and Adaptability\\n            Speaker: N/A\\n            Time: 9:50 AM - 10:30 AM\\n            Track: General\\n            Room: room 2\\n            Session Type: General\\n            Day: Day 1\\n            ', mimetype='text/plain', start_char_idx=None, end_char_idx=None, text_template='{metadata_str}\\n\\n{content}', metadata_template='{key}: {value}', metadata_seperator='\\n'),\n",
       " Document(id_='0a0d65b3-788e-471e-933f-c9eed0ed82b3', embedding=None, metadata={'day': 'Day 1', 'track': 'General', 'session_type': 'General', 'speaker': 'N/A', 'time': '10:35 AM - 11:15 AM', 'room': 'room 1'}, excluded_embed_metadata_keys=[], excluded_llm_metadata_keys=[], relationships={}, text='\\n            Title: TBD\\n            Speaker: N/A\\n            Time: 10:35 AM - 11:15 AM\\n            Track: General\\n            Room: room 1\\n            Session Type: General\\n            Day: Day 1\\n            ', mimetype='text/plain', start_char_idx=None, end_char_idx=None, text_template='{metadata_str}\\n\\n{content}', metadata_template='{key}: {value}', metadata_seperator='\\n'),\n",
       " Document(id_='7682ab6e-8300-41a5-83a1-7b441fb4ab1c', embedding=None, metadata={'day': 'Day 1', 'track': 'General', 'session_type': 'General', 'speaker': 'N/A', 'time': '10:35 AM - 11:15 AM', 'room': 'room 2'}, excluded_embed_metadata_keys=[], excluded_llm_metadata_keys=[], relationships={}, text='\\n            Title: Empowering Development at Every Scale with FlutterFlow\\n            Speaker: N/A\\n            Time: 10:35 AM - 11:15 AM\\n            Track: General\\n            Room: room 2\\n            Session Type: General\\n            Day: Day 1\\n            ', mimetype='text/plain', start_char_idx=None, end_char_idx=None, text_template='{metadata_str}\\n\\n{content}', metadata_template='{key}: {value}', metadata_seperator='\\n'),\n",
       " Document(id_='db0d333c-976f-4f79-9202-ef6ac1ac01b6', embedding=None, metadata={'day': 'Day 1', 'track': 'General', 'session_type': 'General', 'speaker': 'N/A', 'time': '11:15 AM - 11:25 AM', 'room': 'outside'}, excluded_embed_metadata_keys=[], excluded_llm_metadata_keys=[], relationships={}, text='\\n            Title: Walk To Take Photograph\\n            Speaker: N/A\\n            Time: 11:15 AM - 11:25 AM\\n            Track: General\\n            Room: outside\\n            Session Type: General\\n            Day: Day 1\\n            ', mimetype='text/plain', start_char_idx=None, end_char_idx=None, text_template='{metadata_str}\\n\\n{content}', metadata_template='{key}: {value}', metadata_seperator='\\n'),\n",
       " Document(id_='26fb08b0-0953-4cc0-8054-13bd24162427', embedding=None, metadata={'day': 'Day 1', 'track': 'General', 'session_type': 'General', 'speaker': 'N/A', 'time': '11:25 AM - 12:00 PM', 'room': 'outside'}, excluded_embed_metadata_keys=[], excluded_llm_metadata_keys=[], relationships={}, text='\\n            Title: Group Photograph\\n            Speaker: N/A\\n            Time: 11:25 AM - 12:00 PM\\n            Track: General\\n            Room: outside\\n            Session Type: General\\n            Day: Day 1\\n            ', mimetype='text/plain', start_char_idx=None, end_char_idx=None, text_template='{metadata_str}\\n\\n{content}', metadata_template='{key}: {value}', metadata_seperator='\\n'),\n",
       " Document(id_='2fa21db1-8dd9-4539-9c0f-945e3c6c6f3c', embedding=None, metadata={'day': 'Day 1', 'track': 'General', 'session_type': 'General', 'speaker': 'N/A', 'time': '12:00 PM - 12:40 PM', 'room': 'outside'}, excluded_embed_metadata_keys=[], excluded_llm_metadata_keys=[], relationships={}, text='\\n            Title: Lunch\\n            Speaker: N/A\\n            Time: 12:00 PM - 12:40 PM\\n            Track: General\\n            Room: outside\\n            Session Type: General\\n            Day: Day 1\\n            ', mimetype='text/plain', start_char_idx=None, end_char_idx=None, text_template='{metadata_str}\\n\\n{content}', metadata_template='{key}: {value}', metadata_seperator='\\n'),\n",
       " Document(id_='cfd0ba42-ec93-405d-a53d-f0a8c8403408', embedding=None, metadata={'day': 'Day 1', 'track': 'General', 'session_type': 'General', 'speaker': 'N/A', 'time': '12:40 PM - 1:00 PM', 'room': 'outside'}, excluded_embed_metadata_keys=[], excluded_llm_metadata_keys=[], relationships={}, text='\\n            Title: Walk To Venue / Cleanup\\n            Speaker: N/A\\n            Time: 12:40 PM - 1:00 PM\\n            Track: General\\n            Room: outside\\n            Session Type: General\\n            Day: Day 1\\n            ', mimetype='text/plain', start_char_idx=None, end_char_idx=None, text_template='{metadata_str}\\n\\n{content}', metadata_template='{key}: {value}', metadata_seperator='\\n'),\n",
       " Document(id_='d29aa3d0-ac37-4024-ad8d-c1cc169598ef', embedding=None, metadata={'day': 'Day 1', 'track': 'General', 'session_type': 'General', 'speaker': 'N/A', 'time': '5:00 PM - 6:00 PM', 'room': 'Main Hall'}, excluded_embed_metadata_keys=[], excluded_llm_metadata_keys=[], relationships={}, text='\\n            Title: Networking\\n            Speaker: N/A\\n            Time: 5:00 PM - 6:00 PM\\n            Track: General\\n            Room: Main Hall\\n            Session Type: General\\n            Day: Day 1\\n            ', mimetype='text/plain', start_char_idx=None, end_char_idx=None, text_template='{metadata_str}\\n\\n{content}', metadata_template='{key}: {value}', metadata_seperator='\\n'),\n",
       " Document(id_='13f261e3-2de5-46bb-9862-e0816fa7bf4a', embedding=None, metadata={'day': 'Day 1', 'track': 'Breakout', 'session_type': 'Breakout', 'speaker': 'Yves Kalume', 'time': '1:00 PM - 1:45 PM', 'room': 'Breakout Room'}, excluded_embed_metadata_keys=[], excluded_llm_metadata_keys=[], relationships={}, text='\\n            Title: Experiment Your Way To Success: A/B Testing for your Android Apps\\n            Speaker: Yves Kalume\\n            Time: 1:00 PM - 1:45 PM\\n            Track: Breakout\\n            Room: Breakout Room\\n            Session Type: Breakout\\n            Day: Day 1\\n            ', mimetype='text/plain', start_char_idx=None, end_char_idx=None, text_template='{metadata_str}\\n\\n{content}', metadata_template='{key}: {value}', metadata_seperator='\\n'),\n",
       " Document(id_='c7908d63-52a2-4abb-b2fd-95c34b2856d6', embedding=None, metadata={'day': 'Day 1', 'track': 'Breakout', 'session_type': 'Breakout', 'speaker': 'Confidence Okoghenun', 'time': '1:50 PM - 2:35 PM', 'room': 'Breakout Room'}, excluded_embed_metadata_keys=[], excluded_llm_metadata_keys=[], relationships={}, text='\\n            Title: Building Web Apps That Work Offline and Beyond\\n            Speaker: Confidence Okoghenun\\n            Time: 1:50 PM - 2:35 PM\\n            Track: Breakout\\n            Room: Breakout Room\\n            Session Type: Breakout\\n            Day: Day 1\\n            ', mimetype='text/plain', start_char_idx=None, end_char_idx=None, text_template='{metadata_str}\\n\\n{content}', metadata_template='{key}: {value}', metadata_seperator='\\n'),\n",
       " Document(id_='4dd61b26-2fce-4284-82d2-337bcb03391f', embedding=None, metadata={'day': 'Day 1', 'track': 'Breakout', 'session_type': 'Breakout', 'speaker': 'Olivier Leplus', 'time': '2:40 PM - 3:25 PM', 'room': 'Breakout Room'}, excluded_embed_metadata_keys=[], excluded_llm_metadata_keys=[], relationships={}, text='\\n            Title: CSS Rises from the Ashes: (Re)Become Friends with Your Stylesheet\\n            Speaker: Olivier Leplus\\n            Time: 2:40 PM - 3:25 PM\\n            Track: Breakout\\n            Room: Breakout Room\\n            Session Type: Breakout\\n            Day: Day 1\\n            ', mimetype='text/plain', start_char_idx=None, end_char_idx=None, text_template='{metadata_str}\\n\\n{content}', metadata_template='{key}: {value}', metadata_seperator='\\n'),\n",
       " Document(id_='7fcabfb8-111e-4c09-9b5c-68577c6dd7b4', embedding=None, metadata={'day': 'Day 1', 'track': 'Breakout', 'session_type': 'Breakout', 'speaker': 'Gift Ojeabulu', 'time': '3:30 PM - 4:15 PM', 'room': 'Breakout Room'}, excluded_embed_metadata_keys=[], excluded_llm_metadata_keys=[], relationships={}, text='\\n            Title: The Role of Developer Relations in the Success of AI/ML Products\\n            Speaker: Gift Ojeabulu\\n            Time: 3:30 PM - 4:15 PM\\n            Track: Breakout\\n            Room: Breakout Room\\n            Session Type: Breakout\\n            Day: Day 1\\n            ', mimetype='text/plain', start_char_idx=None, end_char_idx=None, text_template='{metadata_str}\\n\\n{content}', metadata_template='{key}: {value}', metadata_seperator='\\n'),\n",
       " Document(id_='d6ceeca5-ac06-4be8-8455-5f23bb14da64', embedding=None, metadata={'day': 'Day 1', 'track': 'Breakout', 'session_type': 'Breakout', 'speaker': 'Adeyanju Michael', 'time': '4:20 PM - 5:05 PM', 'room': 'Breakout Room'}, excluded_embed_metadata_keys=[], excluded_llm_metadata_keys=[], relationships={}, text='\\n            Title: Building a Multi-Tenant SaaS with Microservices on Kubernetes\\n            Speaker: Adeyanju Michael\\n            Time: 4:20 PM - 5:05 PM\\n            Track: Breakout\\n            Room: Breakout Room\\n            Session Type: Breakout\\n            Day: Day 1\\n            ', mimetype='text/plain', start_char_idx=None, end_char_idx=None, text_template='{metadata_str}\\n\\n{content}', metadata_template='{key}: {value}', metadata_seperator='\\n'),\n",
       " Document(id_='187980e3-66f8-4f66-9a20-262ba8a2c0bf', embedding=None, metadata={'day': 'Day 1', 'track': 'Breakout', 'session_type': 'Breakout', 'speaker': 'Nkorom Ezekiel Kingsley', 'time': '5:05 PM - 5:50 PM', 'room': 'Breakout Room'}, excluded_embed_metadata_keys=[], excluded_llm_metadata_keys=[], relationships={}, text='\\n            Title: Cybersecurity Awareness For Small And Medium Enterprises\\n            Speaker: Nkorom Ezekiel Kingsley\\n            Time: 5:05 PM - 5:50 PM\\n            Track: Breakout\\n            Room: Breakout Room\\n            Session Type: Breakout\\n            Day: Day 1\\n            ', mimetype='text/plain', start_char_idx=None, end_char_idx=None, text_template='{metadata_str}\\n\\n{content}', metadata_template='{key}: {value}', metadata_seperator='\\n')]"
      ]
     },
     "execution_count": 14,
     "metadata": {},
     "output_type": "execute_result"
    }
   ],
   "source": [
    "documents"
   ]
  },
  {
   "cell_type": "code",
   "execution_count": 15,
   "id": "7ffe04e1-7685-4b3a-b9ae-54d651e0806e",
   "metadata": {
    "tags": []
   },
   "outputs": [
    {
     "ename": "AttributeError",
     "evalue": "'str' object has no attribute 'get_doc_id'",
     "output_type": "error",
     "traceback": [
      "\u001b[0;31m---------------------------------------------------------------------------\u001b[0m",
      "\u001b[0;31mAttributeError\u001b[0m                            Traceback (most recent call last)",
      "Cell \u001b[0;32mIn[15], line 2\u001b[0m\n\u001b[1;32m      1\u001b[0m \u001b[38;5;66;03m# build index\u001b[39;00m\n\u001b[0;32m----> 2\u001b[0m devfest_index \u001b[38;5;241m=\u001b[39m \u001b[43mVectorStoreIndex\u001b[49m\u001b[38;5;241;43m.\u001b[39;49m\u001b[43mfrom_documents\u001b[49m\u001b[43m(\u001b[49m\u001b[43mschedule_data\u001b[49m\u001b[43m)\u001b[49m\n",
      "File \u001b[0;32m/opt/conda/envs/pytorch/lib/python3.10/site-packages/llama_index/core/indices/base.py:110\u001b[0m, in \u001b[0;36mBaseIndex.from_documents\u001b[0;34m(cls, documents, storage_context, show_progress, callback_manager, transformations, **kwargs)\u001b[0m\n\u001b[1;32m    108\u001b[0m \u001b[38;5;28;01mwith\u001b[39;00m callback_manager\u001b[38;5;241m.\u001b[39mas_trace(\u001b[38;5;124m\"\u001b[39m\u001b[38;5;124mindex_construction\u001b[39m\u001b[38;5;124m\"\u001b[39m):\n\u001b[1;32m    109\u001b[0m     \u001b[38;5;28;01mfor\u001b[39;00m doc \u001b[38;5;129;01min\u001b[39;00m documents:\n\u001b[0;32m--> 110\u001b[0m         docstore\u001b[38;5;241m.\u001b[39mset_document_hash(\u001b[43mdoc\u001b[49m\u001b[38;5;241;43m.\u001b[39;49m\u001b[43mget_doc_id\u001b[49m(), doc\u001b[38;5;241m.\u001b[39mhash)\n\u001b[1;32m    112\u001b[0m     nodes \u001b[38;5;241m=\u001b[39m run_transformations(\n\u001b[1;32m    113\u001b[0m         documents,  \u001b[38;5;66;03m# type: ignore\u001b[39;00m\n\u001b[1;32m    114\u001b[0m         transformations,\n\u001b[1;32m    115\u001b[0m         show_progress\u001b[38;5;241m=\u001b[39mshow_progress,\n\u001b[1;32m    116\u001b[0m         \u001b[38;5;241m*\u001b[39m\u001b[38;5;241m*\u001b[39mkwargs,\n\u001b[1;32m    117\u001b[0m     )\n\u001b[1;32m    119\u001b[0m     \u001b[38;5;28;01mreturn\u001b[39;00m \u001b[38;5;28mcls\u001b[39m(\n\u001b[1;32m    120\u001b[0m         nodes\u001b[38;5;241m=\u001b[39mnodes,\n\u001b[1;32m    121\u001b[0m         storage_context\u001b[38;5;241m=\u001b[39mstorage_context,\n\u001b[0;32m   (...)\u001b[0m\n\u001b[1;32m    125\u001b[0m         \u001b[38;5;241m*\u001b[39m\u001b[38;5;241m*\u001b[39mkwargs,\n\u001b[1;32m    126\u001b[0m     )\n",
      "\u001b[0;31mAttributeError\u001b[0m: 'str' object has no attribute 'get_doc_id'"
     ]
    }
   ],
   "source": [
    "  # build index\n",
    "devfest_index = VectorStoreIndex.from_documents(schedule_data)"
   ]
  },
  {
   "cell_type": "code",
   "execution_count": null,
   "id": "cfa4612e-96bf-4863-9fc7-4eb4f9478604",
   "metadata": {},
   "outputs": [],
   "source": []
  }
 ],
 "metadata": {
  "environment": {
   "kernel": "conda-env-pytorch-pytorch",
   "name": "workbench-notebooks.m125",
   "type": "gcloud",
   "uri": "us-docker.pkg.dev/deeplearning-platform-release/gcr.io/workbench-notebooks:m125"
  },
  "kernelspec": {
   "display_name": "PyTorch 1-13 (Local)",
   "language": "python",
   "name": "conda-env-pytorch-pytorch"
  },
  "language_info": {
   "codemirror_mode": {
    "name": "ipython",
    "version": 3
   },
   "file_extension": ".py",
   "mimetype": "text/x-python",
   "name": "python",
   "nbconvert_exporter": "python",
   "pygments_lexer": "ipython3",
   "version": "3.10.15"
  }
 },
 "nbformat": 4,
 "nbformat_minor": 5
}

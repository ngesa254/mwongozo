{
 "cells": [
  {
   "cell_type": "code",
   "execution_count": null,
   "id": "d8e11cd9-2717-482d-bb26-0e6211d84b25",
   "metadata": {},
   "outputs": [],
   "source": [
    "!pip install --upgrade --user --quiet google-cloud-aiplatform"
   ]
  }
 ],
 "metadata": {
  "environment": {
   "kernel": "conda-base-py",
   "name": "workbench-notebooks.m125",
   "type": "gcloud",
   "uri": "us-docker.pkg.dev/deeplearning-platform-release/gcr.io/workbench-notebooks:m125"
  },
  "kernelspec": {
   "display_name": "Python 3 (ipykernel) (Local)",
   "language": "python",
   "name": "conda-base-py"
  },
  "language_info": {
   "name": ""
  }
 },
 "nbformat": 4,
 "nbformat_minor": 5
}
